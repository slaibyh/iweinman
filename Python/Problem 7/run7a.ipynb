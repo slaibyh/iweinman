{
 "cells": [
  {
   "cell_type": "code",
   "execution_count": 1,
   "metadata": {},
   "outputs": [],
   "source": [
    "import problem7a as c\n",
    "import matplotlib.pyplot as p "
   ]
  },
  {
   "cell_type": "code",
   "execution_count": 2,
   "metadata": {},
   "outputs": [
    {
     "data": {
      "text/plain": [
       "166    2016\n",
       "165    2015\n",
       "167    2017\n",
       "164    2014\n",
       "160    2010\n",
       "155    2005\n",
       "148    1998\n",
       "163    2013\n",
       "159    2009\n",
       "156    2006\n",
       "Name: Year, dtype: int64"
      ]
     },
     "execution_count": 2,
     "metadata": {},
     "output_type": "execute_result"
    }
   ],
   "source": [
    "#1) Hottest 10 years\n",
    "c.topten('Heat')"
   ]
  },
  {
   "cell_type": "code",
   "execution_count": 3,
   "metadata": {},
   "outputs": [
    {
     "data": {
      "text/plain": [
       "165    2015\n",
       "164    2014\n",
       "167    2017\n",
       "163    2013\n",
       "162    2012\n",
       "166    2016\n",
       "161    2011\n",
       "160    2010\n",
       "159    2009\n",
       "158    2008\n",
       "Name: Year, dtype: int64"
      ]
     },
     "execution_count": 3,
     "metadata": {},
     "output_type": "execute_result"
    }
   ],
   "source": [
    "#2) 10 years with the most carbon emitted\n",
    "c.topten('Carbon')"
   ]
  },
  {
   "cell_type": "code",
   "execution_count": 4,
   "metadata": {},
   "outputs": [
    {
     "name": "stdout",
     "output_type": "stream",
     "text": [
      "The common years between the hottest and the most carbon emitted are:     Year\n",
      "0  2016\n",
      "1  2015\n",
      "2  2017\n",
      "3  2014\n",
      "4  2010\n",
      "5  2013\n",
      "6  2009\n"
     ]
    }
   ],
   "source": [
    "#3) Is there a relationship between the ten hottest years and the ten years with the most carbon emissions?\n",
    "c.relate()"
   ]
  },
  {
   "cell_type": "code",
   "execution_count": 5,
   "metadata": {},
   "outputs": [],
   "source": [
    "#overlap()"
   ]
  },
  {
   "cell_type": "code",
   "execution_count": 6,
   "metadata": {},
   "outputs": [],
   "source": [
    "#Make an excel spreadsheet\n",
    "c.excel()\n",
    "#I don't think this really does much in the Jupiter Notebook. The actual spreadsheet is in my problem 7 folder on Github."
   ]
  },
  {
   "cell_type": "code",
   "execution_count": null,
   "metadata": {},
   "outputs": [],
   "source": []
  }
 ],
 "metadata": {
  "kernelspec": {
   "display_name": "Python 3",
   "language": "python",
   "name": "python3"
  },
  "language_info": {
   "codemirror_mode": {
    "name": "ipython",
    "version": 3
   },
   "file_extension": ".py",
   "mimetype": "text/x-python",
   "name": "python",
   "nbconvert_exporter": "python",
   "pygments_lexer": "ipython3",
   "version": "3.7.4"
  }
 },
 "nbformat": 4,
 "nbformat_minor": 2
}
