{
 "cells": [
  {
   "cell_type": "markdown",
   "metadata": {},
   "source": [
    "When the program is first run I want it to create a new window. An image of the Earth will be in the bottom half. Above the image, there will be two text boxes, one above the other, and two drop down menus on either side of the bottom one. The top text box will have a \"Name:\" next to it. The left text box will have three options, with the default being Orbital Period and the the other two being Orbital Radius and Orbital Velocity. The bottom text box is meant to type in a value for one of those measurements. The right drop down will have units depending on what is selected in the left drop down. (Or, maybe just units for all three.) There will be a button under the bottom text box called \"Add Satellite\". When that is clicked a satellite will appear above the Earth at its specified orbital height (To scale). It will then trace its orbit with a dotted line and continue to move around the Earth. Under the \"Add Satellite\" button, there will be a legend containing the period in whichever unit the user chose (default is minutes if they did not input period), the orbital height in the specified unit (default kilometers), and total distance traveled over one period in kilometers (*I need more info in the legend*). As the satellite moves around Earth there will be an arrow that points in the direction of its velocity. The magnitude in kilometers per second will be displayed next to it. I want the program to be able to handle more than one satellite.\n",
    "\n",
    "The program will also be able to handle bad inputs. For example, if it is run when the drop down is Orbital period or Orbital radius and the input is negative, it will tell you only velocity can be negative. (positive velocity = clockwise orbit, negative velocity = counter-clockwise orbit). Another example, if the velocity is so fast that the satellite would be inside the Earth, the program would tell you. (It may be cool to still display the satellite anyway though...)If the radius or period is so large that the satellite would be off the screen, the program would tell you. If the user has two satellites moving along the same dotted line, in different directions, the satellites would crash, so the program would show that happen. It would not show all the gory details, the satellites would just stop moving when they meet and the program would say that they crashed. \n",
    "\n",
    "Questions:\n",
    "- I know that orbits are actually ellipses. Is it okay to simplify them as circles for this? "
   ]
  },
  {
   "cell_type": "code",
   "execution_count": null,
   "metadata": {},
   "outputs": [],
   "source": []
  }
 ],
 "metadata": {
  "kernelspec": {
   "display_name": "Python 3",
   "language": "python",
   "name": "python3"
  },
  "language_info": {
   "codemirror_mode": {
    "name": "ipython",
    "version": 3
   },
   "file_extension": ".py",
   "mimetype": "text/x-python",
   "name": "python",
   "nbconvert_exporter": "python",
   "pygments_lexer": "ipython3",
   "version": "3.7.4"
  }
 },
 "nbformat": 4,
 "nbformat_minor": 2
}
